{
 "cells": [
  {
   "cell_type": "code",
   "execution_count": 1,
   "metadata": {},
   "outputs": [],
   "source": [
    "import numpy as np\n",
    "import matplotlib.pyplot as plt\n",
    "import matplotlib.image as mpimg\n",
    "#import cv2 as cv\n",
    "import pandas as pd\n",
    "#import pygame"
   ]
  },
  {
   "cell_type": "code",
   "execution_count": 30,
   "metadata": {},
   "outputs": [
    {
     "data": {
      "text/plain": [
       "array([[ 0.41091116,  0.80678268, -0.06802197],\n",
       "       [ 0.64512828,  0.42525114,  0.22951457],\n",
       "       [ 0.0152986 ,  0.67801313,  0.26383768]])"
      ]
     },
     "execution_count": 30,
     "metadata": {},
     "output_type": "execute_result"
    }
   ],
   "source": [
    "import numpy as np\n",
    "\n",
    "v = np.array([[-0.71315065, -0.75018559, -0.55082469], [-0.66886771, 0.65787043, -0.61472047], [-0.20983835, 0.06654379, 0.56454487]]).T\n",
    "w = np.array([1.20705228, -0.44512204, 0.33806975])\n",
    "\n",
    "w = np.diag(w)\n",
    "\n",
    "A = v @ w @ np.linalg.inv(v)\n",
    "\n",
    "A\n",
    "\n",
    "\n"
   ]
  },
  {
   "attachments": {},
   "cell_type": "markdown",
   "metadata": {},
   "source": [
    "# Capítulo 5"
   ]
  },
  {
   "attachments": {},
   "cell_type": "markdown",
   "metadata": {},
   "source": [
    "# Parte 1"
   ]
  },
  {
   "attachments": {},
   "cell_type": "markdown",
   "metadata": {},
   "source": [
    "# Exercício 1\n",
    "**Objetivo: Executar um sistema dinâmico e procurar por pontos de estabilidade**\n"
   ]
  },
  {
   "attachments": {},
   "cell_type": "markdown",
   "metadata": {},
   "source": [
    "No [capítulo 2](02-sistemas_lineares.ipynb), usamos uma matriz para representar dois sistemas que operam dinamicamente: a população de carcarás e sapos numa região fictícia, e a dinâmica de navegação de um web-surfista aleatório. Se precisar, revise esse material!\n",
    "\n",
    "Esses dois sistemas são chamados de *sistemas dinâmicos* porque eles estão tratando de uma evolução de elementos ao longo do tempo. Como já falamos de carcarás e navegadores, vamos tratar agora de um outro sistema bem interessante, que é o de bicicletas públicas de Montreal.\n",
    "\n",
    "Já por perto de 2010 a 2011, Montreal tinha um sistema de bicicletas públicas bastante parecido com as bicicletas Itaú que temos hoje em São Paulo. Só que Montreal é uma cidade que fica em uma montanha (cujo ponto mais alto é o [Mount Royal](https://www.google.com/maps/place/Mount+Royal+Park/@45.5023053,-73.6098349,14.25z/data=!4m13!1m7!3m6!1s0x4cc91a541c64b70d:0x654e3138211fefef!2sMontreal,+QC,+Canada!3b1!8m2!3d45.5018869!4d-73.5673919!3m4!1s0x4cc91a3b89d50ee1:0x4c8dc463a4718c9a!8m2!3d45.5015664!4d-73.5932179)), o que levou a um problema interessante: as pessoas tendem a tomar uma bicicleta emprestada na estação que fica na região mais alta e devolver em uma das estações das regiões mais baixas, mas raramente alguém faz o caminho inverso. O fim dessa história é que a [prefeitura contratou caminhões para ficarem levando bicicletas morro acima](https://www.csmonitor.com/World/Global-News/2011/0921/Montreal-s-public-bike-system-faces-uphill-battle), e uma consequência inesperada é que essa história seria um exemplo numa aula de álgebra linear dez anos depois num outro hemisfério.\n",
    "\n",
    "---\n",
    "\n",
    "Em nosso modelo, vamos fazer várias suposições que cabem para o nosso exemplo, mas que não necessariamente correspondem a dados reais.\n",
    "\n",
    "* Vamos supor que temos três estações. As duas primeiras (E1 e E2) ficam na parte baixa da cidade. A outra estação (E3) fica na parte alta.\n",
    "* Quando uma bicicleta é tomada emprestada em E1, ela tem 90% de chance de ser devolvida em E2 e 10% de chance de ser devolvida em E3.\n",
    "* Quando uma bicicleta é tomada emprestada em E2, ela tem 95% de chance de ser devolvida em E1 e 5% de chance de ser devolvida em E3.\n",
    "* Quando uma bicicleta é tomada emprestada em E3, ela tem 70% de chance de ser devolvida em E1 e 30% de chance de ser devolvida em E2.\n",
    "\n",
    "Vamos supor que cada estação começa com 10 bicicletas, e que não há um limite máximo de bicicletas que podem ficar em cada estação.\n",
    "\n",
    "Gostaríamos de saber:\n",
    "\n",
    "(a) Após alguns dias de iterações aleatórias, quantas bicicletas esperamos encontrar em cada uma das estações?\n",
    "\n",
    "(b) Com esses dados inventados, vai ser necessário contratar caminhões para levar bicicletas de alguma estação para outra? Para quais?\n",
    "\n",
    "(c) Se, ao invés de começarmos nossas iterações com 10 bicicletas em cada estação, começarmos com todas as 30 bicicletas na estação E3, no topo do morro, devemos encontrar uma quantidade final de bicicletas diferente, ao fim de várias iterações?\n",
    "\n",
    "---"
   ]
  },
  {
   "cell_type": "code",
   "execution_count": 4,
   "metadata": {},
   "outputs": [
    {
     "name": "stdout",
     "output_type": "stream",
     "text": [
      "[[13.98965992]\n",
      " [13.91903853]\n",
      " [ 2.09130155]]\n"
     ]
    }
   ],
   "source": [
    "x = np.array([[0], [0], [30]])\n",
    "#linha 1 é pegar E2 -> E2, E1, E3\n",
    "#linha 2 é pegar E1 -> E2, E1, E3\n",
    "#linha 3 é pegar E3 -> E2, E1, E3\n",
    "A = np.array( [[0, 0.95, 0.05], [0.9, 0, 0.1], [0.7, 0.3, 0]]).T\n",
    "for _ in range(100):\n",
    "    x = A @ x\n",
    "# implemente 100 passos seguidos!\n",
    "\n",
    "# Número de bicicletas por estação = # total de bicicletas * P(bicicleta por estação)\n",
    "print(x)"
   ]
  },
  {
   "cell_type": "markdown",
   "metadata": {},
   "source": [
    "\n",
    "Discussão sobre a solução:\n",
    "\n",
    "Sob um ponto de vista matemático, um ciclista aleatório parece se comportar de uma maneira muito parecida com um web-surfista aleatório! Veja o exercício 14 do capítulo de sistemas lineares para uma explicação sobre isso. Podemos representar nosso vetor de bicicletas como:\n",
    "\n",
    "$$\n",
    "x_0 = 30 \\begin{bmatrix} 1/3 \\\\ 1/3 \\\\ 1/3 \\end{bmatrix}\n",
    "$$\n",
    "\n",
    "e a matriz que representa as transições entre estações será a matriz $A$ de forma que $a[i,j]=P(s_t = i | s_{t-1}=j)$, isto é, a $a_{i,j}$ é a probabilidade de uma bicicleta ser deixada na estação $i$ sabendo que ela estava estação $j$:\n",
    "\n",
    "$$\n",
    "A = \\begin{bmatrix} \n",
    "    0 & 0.9 & 0.7 \\\\\n",
    "    0.95 & 0 & 0.3 \\\\\n",
    "    0.05 & 0.1 & 0 \n",
    "    \\end{bmatrix}\n",
    "$$\n",
    "\n"
   ]
  },
  {
   "cell_type": "code",
   "execution_count": 11,
   "metadata": {},
   "outputs": [
    {
     "name": "stdout",
     "output_type": "stream",
     "text": [
      "[[0.46634615]\n",
      " [0.46394231]\n",
      " [0.06971154]]\n"
     ]
    }
   ],
   "source": [
    "import numpy as np\n",
    "# Comecei com as matrizes já digitadas no código \n",
    "x = np.array([[1], [1], [1]])/3\n",
    "A = np.array( [ [0, 0.95, 0.05], [0.9, 0, 0.1], [0.7, 0.3, 0]]).T\n",
    "# um passo: x = A @ x\n",
    "# implemente 100 passos seguidos!\n",
    "for _ in range(1000):\n",
    "    x = A@x\n",
    "\n",
    "# Número de bicicletas por estação = # total de bicicletas * P(bicicleta por estação)\n",
    "print(x)"
   ]
  },
  {
   "cell_type": "code",
   "execution_count": null,
   "metadata": {},
   "outputs": [],
   "source": [
    "A@x"
   ]
  },
  {
   "attachments": {},
   "cell_type": "markdown",
   "metadata": {},
   "source": [
    "# Exercício 2\n",
    "**Objetivo: calcular auto-valores e auto-vetores usando pacotes Python**\n",
    "\n",
    "O problema das bicicletas de Montreal (assim como o PageRank e o problema dos carcarás do Capítulo 2) está ligado a uma característica de matrizes que é a existência de vetores e valores chamados de auto-valores e de auto-vetores. Quando um auto-vetor de uma matriz é multiplicado pela própria matriz, o resultado é um múltiplo do próprio vetor, isto é:\n",
    "\n",
    "$$\n",
    "Ax = x \\lambda,\n",
    "$$\n",
    "onde: $A$ é a matriz, $x$ é o auto-vetor e $\\lambda$ é o auto-valor correspondente.\n",
    "\n",
    "Por exemplo:\n",
    "\n",
    "$$\n",
    "\\begin{bmatrix} \n",
    "    2 & 0  \\\\\n",
    "    0 & 1 \n",
    "\\end{bmatrix}\n",
    "\\begin{bmatrix} \n",
    "    1 \\\\\n",
    "    0  \n",
    "\\end{bmatrix}\n",
    "= \n",
    "\\begin{bmatrix} \n",
    "    2 \\\\\n",
    "    0  \n",
    "\\end{bmatrix}\n",
    "=\n",
    "2\n",
    "\\begin{bmatrix} \n",
    "    1 \\\\\n",
    "    0  \n",
    "\\end{bmatrix},\n",
    "$$\n",
    "portanto $[1,0]^T$ é um auto-vetor de $[[2, 0],[0,1]]$, e $2$ é o auto-valor correspondente.\n",
    "\n",
    "Se tivermos algum vetor na mesma direção de $x$ mas multiplicado por algum número real $\\alpha$, isto é, $y=\\alpha x$, podemos manter a mesma equação:\n",
    "\n",
    "$$\n",
    "A \\alpha x = \\alpha x \\lambda \\rightarrow Ay = y \\lambda.\n",
    "$$\n",
    "\n",
    "a) No problema das bicicletas de Montreal, encontramos um auto-vetor da matriz $A$. Qual é esse auto-vetor, e qual é o auto-valor correspondente? \n",
    "\n",
    "Lembrando que:\n",
    "$$\n",
    "A = \\begin{bmatrix} \n",
    "    0 & 0.9 & 0.7 \\\\\n",
    "    0.95 & 0 & 0.3 \\\\\n",
    "    0.05 & 0.1 & 0 \n",
    "    \\end{bmatrix}\n",
    "$$\n",
    "\n",
    "b) A instrução `w, v = np.linalg.eig(A)` retorna os auto-vetores da matriz A na variável `v` e os auto-valores correspondentes na variável `w`. Use essa função para calcular os auto-valores e auto-vetores da matriz $A$ do problema das bicicletas de Montreal.\n"
   ]
  },
  {
   "cell_type": "code",
   "execution_count": 9,
   "metadata": {},
   "outputs": [
    {
     "name": "stdout",
     "output_type": "stream",
     "text": [
      "[2. 1.]\n",
      "[[1. 0.]\n",
      " [0. 1.]]\n"
     ]
    }
   ],
   "source": [
    "A = np.array( [[2,0],[0,1]]).T\n",
    "w, v = np.linalg.eig(A)\n",
    "print(w)\n",
    "print(v)"
   ]
  },
  {
   "cell_type": "code",
   "execution_count": 12,
   "metadata": {},
   "outputs": [
    {
     "name": "stdout",
     "output_type": "stream",
     "text": [
      "[ 1.         -0.91231056 -0.08768944]\n",
      "[[-0.70498394 -0.68507886 -0.19291753]\n",
      " [-0.70135     0.72724739 -0.5906272 ]\n",
      " [-0.1053842  -0.04216853  0.78354473]]\n",
      "[1.         0.99484536 0.14948454]\n",
      "[[1.        ]\n",
      " [0.99484536]\n",
      " [0.14948454]]\n"
     ]
    }
   ],
   "source": [
    "A = np.array( [ [0, 0.95, 0.05], [0.9, 0, 0.1], [0.7, 0.3, 0]]).T\n",
    "w, v = np.linalg.eig(A)\n",
    "print(w)\n",
    "print(v)\n",
    "print( v[:,0]/v[0,0] )\n",
    "print( x / x[0,0])"
   ]
  },
  {
   "attachments": {},
   "cell_type": "markdown",
   "metadata": {},
   "source": [
    "# Exercício 3\n",
    "**Objetivo: auto-vetores e auto-valores como pontos de estabilidade, expansão, ou colapso**\n",
    "\n",
    " Vamos retomar o problema da população de carcarás e de sapos no Capítulo 2. Nesse problema, tínhamos a situação em que carcarás estão no mesmo habitat que sapos, obedecendo às seguintes regras:\n",
    "\n",
    "* A população de carcarás naturalmente cai em 20% a cada mês\n",
    "* Para cada cinco mil sapos existentes naquele mês, um novo carcará nasce\n",
    "* A população de sapos naturalmente sobe em 10% porque eles se reproduzem\n",
    "* A cada mês, cada carcará consegue comer 100 sapos\n",
    "\n",
    "Isso significa que podemos escrever equações para calcular o número de carcarás e de sapos a cada mês, tomando por base a quantidade deles no mês anterior:\n",
    "\n",
    "$$ \n",
    "\\begin{cases}\n",
    "    \\begin{aligned}\n",
    "    c_t & = 0.8 c_{t-1} + 0.2 s_{t-1} \\\\\n",
    "    s_t & = - 0.1 c_{t-1} + 1.1 s_{t-1} \\\\\n",
    "    \\end{aligned}\n",
    "\\end{cases}\n",
    "$$\n",
    "\n",
    "Podemos fazer esse cálculo usando a operação matricial:\n",
    "$$\n",
    "\\begin{bmatrix}\n",
    "    c_t \\\\\n",
    "    s_t \n",
    "\\end{bmatrix}\n",
    "=\n",
    "\\begin{bmatrix}\n",
    "    0.8 & 0.2\\\\\n",
    "    -0.1 & 1.1\n",
    "\\end{bmatrix} \n",
    "\\begin{bmatrix}\n",
    "    c_{t-1} \\\\\n",
    "    s_{t-1}\n",
    "\\end{bmatrix}\n",
    "$$\n",
    "\n",
    "Como já vimos, podemos calcular a dinâmica da população ao longo do tempo partindo, por exemplo, de 600 carcarás e 500 mil sapos:"
   ]
  },
  {
   "cell_type": "code",
   "execution_count": 18,
   "metadata": {},
   "outputs": [
    {
     "data": {
      "image/png": "[encoded data removed]",
      "text/plain": [
       "<Figure size 700x200 with 1 Axes>"
      ]
     },
     "metadata": {},
     "output_type": "display_data"
    }
   ],
   "source": [
    "import matplotlib.pyplot as plt\n",
    "A = np.array([[0.8, 0.2], [-0.1,  1.1]])\n",
    "x = np.array([[600], [500]])\n",
    "populacao_carcaras = []\n",
    "populacao_sapos = []\n",
    "for _ in range(1000):\n",
    "    populacao_carcaras.append(x[0,0])\n",
    "    populacao_sapos.append(x[1,0])\n",
    "    x = A @ x\n",
    "\n",
    "plt.figure(figsize=(7,2))\n",
    "plt.plot(populacao_carcaras, label='Carcarás')\n",
    "plt.plot(populacao_sapos, label='Sapos (* 1000)')\n",
    "plt.ylim([0,800])\n",
    "plt.ylabel('População')\n",
    "plt.xlabel('Semanas')\n",
    "plt.show()"
   ]
  },
  {
   "attachments": {},
   "cell_type": "markdown",
   "metadata": {},
   "source": [
    "a) Usando a função `np.linalg.eig`, encontre os auto-valores e auto-vetores da matriz que representa a dinâmica da população de carcarás e sapos. \n"
   ]
  },
  {
   "cell_type": "code",
   "execution_count": 14,
   "metadata": {},
   "outputs": [
    {
     "name": "stdout",
     "output_type": "stream",
     "text": [
      "[0.9 1. ] [[-0.89442719 -0.70710678]\n",
      " [-0.4472136  -0.70710678]]\n"
     ]
    }
   ],
   "source": [
    "w, v = np.linalg.eig(A)\n",
    "print(w, v)\n",
    "\n",
    "#temos um auto-valor == 1 que indica estabilidade \n",
    "#temos um auto-valor < 1 que indica colapso\n",
    "#um auto-valor > 1 indica expansão"
   ]
  },
  {
   "attachments": {},
   "cell_type": "markdown",
   "metadata": {},
   "source": [
    "\n",
    "b) Qual é o auto-vetor correspondente ao auto-valor $1$?\n"
   ]
  },
  {
   "cell_type": "markdown",
   "metadata": {},
   "source": [
    "-0.70710678\n",
    "-0.70710678"
   ]
  },
  {
   "attachments": {},
   "cell_type": "markdown",
   "metadata": {},
   "source": [
    "\n",
    "c) Como esse auto-vetor corresponde à dinâmica de população que observamos ao simular o sistema?\n",
    "\n"
   ]
  },
  {
   "cell_type": "markdown",
   "metadata": {},
   "source": []
  },
  {
   "cell_type": "code",
   "execution_count": null,
   "metadata": {},
   "outputs": [],
   "source": [
    "print(w)\n",
    "print(v)\n",
    "print( v[:,1]/v[0,1] )\n",
    "print( x / x[0,0])"
   ]
  },
  {
   "attachments": {},
   "cell_type": "markdown",
   "metadata": {},
   "source": [
    "\n",
    "\n",
    "d) O que acontece com o sistema se as condições iniciais forem iguais ao auto-vetor correspondente ao outro auto-valor?\n",
    "\n"
   ]
  },
  {
   "cell_type": "code",
   "execution_count": null,
   "metadata": {},
   "outputs": [],
   "source": [
    "x = v[:,0].reshape( (2,1))\n",
    "x *= -100\n",
    "print(x)\n",
    "import matplotlib.pyplot as plt\n",
    "A = np.array([[0.8, 0.2], [-0.1,  1.1]])\n",
    "populacao_carcaras = []\n",
    "populacao_sapos = []\n",
    "for _ in range(100):\n",
    "    populacao_carcaras.append(x[0,0])\n",
    "    populacao_sapos.append(x[1,0])\n",
    "    x = A @ x\n",
    "\n",
    "plt.figure(figsize=(7,2))\n",
    "plt.plot(populacao_carcaras, label='Carcarás')\n",
    "plt.plot(populacao_sapos, label='Sapos (* 1000)')\n",
    "#plt.ylim([0,800])\n",
    "plt.ylabel('População')\n",
    "plt.xlabel('Semanas')\n",
    "plt.show()"
   ]
  },
  {
   "cell_type": "markdown",
   "metadata": {},
   "source": [
    "\n",
    "\n",
    "e) Explique essa dinâmica usando o conceito de auto-valores e auto-vetores, isto é, a equação $Ax = x \\lambda$ onde $A$ é a matriz da dinâmica, $x$ é o auto-vetor e $\\lambda$ é o auto-valor correspondente."
   ]
  },
  {
   "attachments": {},
   "cell_type": "markdown",
   "metadata": {},
   "source": [
    "# Exercício 4\n",
    "*Objetivo: encontrar uma matriz à partir de seus auto-valores e auto-vetores*\n",
    "\n",
    "Em algumas situações (por exemplo, quando estou montando essa lista de exercícios - mas, de forma mais geral, quando estamos projetando sistemas dinâmicos), gostaríamos de encontrar matrizes que têm os autovalores e autovetores que queremos. Para isso, vamos escrever a equação de autovetores e autovalores na forma matricial.\n",
    "\n",
    "Quando estamos falando de somente um auto-vetor, podemos escrever:\n",
    "\n",
    "$$\n",
    "Ax = x \\lambda\n",
    "$$\n",
    "\n",
    "Porém, se tivermos dois auto-vetores, e seus auto-valores correspondentes, temos na verdade um sistema:\n",
    "\n",
    "$$\n",
    "\\begin{cases}\n",
    "Ax_1 = x_1 \\lambda_1 \\\\\n",
    "Ax_2 = x_2 \\lambda_2 \n",
    "\\end{cases}\n",
    "$$\n",
    "\n",
    "Esse sistema pode ser escrito na forma de uma multiplicação matricial, se assumirmos que nossos auto-vetores são vetores-coluna:\n",
    "\n",
    "$$\n",
    "A \\begin{bmatrix} x_1 & x_2 \\end{bmatrix} = \\begin{bmatrix} x_1 & x_2 \\end{bmatrix} \\begin{bmatrix} \\lambda_1 & 0 \\\\ 0 & \\lambda_2 \\end{bmatrix} \n",
    "$$\n",
    "\n",
    "Multiplicando os dois lados da equação por $\\begin{bmatrix} x_1 & x_2 \\end{bmatrix}^{-1}$, ficamos com:\n",
    "\n",
    "$$\n",
    "A \\begin{bmatrix} x_1 & x_2 \\end{bmatrix}\\begin{bmatrix} x_1 & x_2 \\end{bmatrix}^{-1} = \\begin{bmatrix} x_1 & x_2 \\end{bmatrix} \\begin{bmatrix} \\lambda_1 & 0 \\\\ 0 & \\lambda_2 \\end{bmatrix} \\begin{bmatrix} x_1 & x_2 \\end{bmatrix}^{-1}\n",
    "$$\n",
    "\n",
    "e, portanto:\n",
    "$$\n",
    "A = \\begin{bmatrix} x_1 & x_2 \\end{bmatrix} \\begin{bmatrix} \\lambda_1 & 0 \\\\ 0 & \\lambda_2 \\end{bmatrix} \\begin{bmatrix} x_1 & x_2 \\end{bmatrix}^{-1}\n",
    "$$\n",
    "\n",
    "Por exemplo, se quiséssemos uma matriz cujos auto-valores são $0.7$ e $0.2$ e os auto-vetores correspondentes são $[1,0]^T$ e $[0.5, 0.5]^T$, então deveríamos calcular:\n",
    "\n",
    "$$\n",
    "A = \\begin{bmatrix} 1 & 0.5 \\\\ 0 & 0.5 \\end{bmatrix} \\begin{bmatrix} 0.7 & 0 \\\\ 0  & 0.2 \\end{bmatrix} \\begin{bmatrix} 1 & 0.5 \\\\ 0 & 0.5 \\end{bmatrix}^{-1}\n",
    "$$\n",
    "\n",
    "Encontre a matriz com autovetores $[1,0]^T$ e $[0.5, 0.5]^T$ e autovalores $0.7$ e $0.2$."
   ]
  },
  {
   "cell_type": "code",
   "execution_count": 24,
   "metadata": {},
   "outputs": [
    {
     "data": {
      "text/plain": [
       "array([[ 0.7, -0.5],\n",
       "       [ 0. ,  0.2]])"
      ]
     },
     "execution_count": 24,
     "metadata": {},
     "output_type": "execute_result"
    }
   ],
   "source": [
    "S = np.array( [[1, 0], [0.5, 0.5]]).T\n",
    "L = np.array( [ [0.7, 0], [0, 0.2] ])\n",
    "S @ L @ np.linalg.inv(S)"
   ]
  },
  {
   "cell_type": "code",
   "execution_count": 25,
   "metadata": {},
   "outputs": [
    {
     "name": "stdout",
     "output_type": "stream",
     "text": [
      "[[1. 0.]\n",
      " [0. 1.]]\n",
      "[[1000]\n",
      " [1100]]\n"
     ]
    }
   ],
   "source": [
    "import matplotlib.pyplot as plt\n",
    "S = np.array( [[1, 0.5], [1.5, 0.5]]).T\n",
    "L = np.array( [ [1, 0], [0, 1] ])\n",
    "A_din = S @ L @ np.linalg.inv(S)\n",
    "print(A_din)\n",
    "x = np.array([[1000, 1100]]).T\n",
    "print(x)\n"
   ]
  },
  {
   "cell_type": "code",
   "execution_count": 26,
   "metadata": {},
   "outputs": [
    {
     "data": {
      "image/png": "[encoded data removed]",
      "text/plain": [
       "<Figure size 700x200 with 1 Axes>"
      ]
     },
     "metadata": {},
     "output_type": "display_data"
    }
   ],
   "source": [
    "\n",
    "populacao_carcaras = []\n",
    "populacao_sapos = []\n",
    "for _ in range(100):\n",
    "    populacao_carcaras.append(x[0,0])\n",
    "    populacao_sapos.append(x[1,0])\n",
    "    x = A_din @ x\n",
    "\n",
    "plt.figure(figsize=(7,2))\n",
    "plt.plot(populacao_carcaras, label='Carcarás')\n",
    "plt.plot(populacao_sapos, label='Sapos (* 1000)')\n",
    "#plt.ylim([0,800])\n",
    "plt.ylabel('População')\n",
    "plt.xlabel('Semanas')\n",
    "\n",
    "plt.show()"
   ]
  },
  {
   "attachments": {},
   "cell_type": "markdown",
   "metadata": {},
   "source": [
    "# Exercício 5\n",
    "*Objetivo: relacionar autovalores ao colapso, explosão e ao equilíbrio de sistemas dinâmicos*\n",
    "\n",
    "Até o momento, usamos um vetor $v$ para representar o estado de sistemas - a quantidade de bicicletas nas estações em algum momento, a quantidade de animais em alguma semana, e assim por diante. Vamos chamar nossa condição inicial de $v_0$, significando o vetor de estados $v$ no tempo $0$ (e, portanto, $v_1$ é o estado após uma iteração, e $v_{223}$ é o estado após $223$ iterações).\n",
    "\n",
    "Quando aplicamos uma matriz sobre um vetor de estados qualquer $v_0$, isto é, quando damos um passo em nosso sistema dinâmico, temos a situação:\n",
    "\n",
    "$$\n",
    "v_1 = A v_{0}\n",
    "$$\n",
    "\n",
    "Podemos aplicar novamente a matriz sobre $v_1$, encontrando:\n",
    "$$\n",
    "v_2 = A v_1 = A A v_0 = A^2 v_0.\n",
    "$$\n",
    "\n",
    "E, ao longo de $N$ iterações, teremos:\n",
    "$$\n",
    "v_N = A^N v_0\n",
    "$$\n",
    "---\n",
    "\n",
    "Isso é  o que fizemos diversas vezes até este momento. Vamos agora re-escrever essa mesma equação na usando a forma de autovalores e autovetores. As passagens que seguem parecem um pouco longas porque as expressões são longas, mas são somente a consequência de trocar $A$ nas equações acima pela decomposição matricial:\n",
    "\n",
    "$$\n",
    "A = \\begin{bmatrix} x_1 & x_2 \\end{bmatrix} \\begin{bmatrix} \\lambda_1 & 0 \\\\ 0 & \\lambda_2 \\end{bmatrix} \\begin{bmatrix} x_1 & x_2 \\end{bmatrix}^{-1}\n",
    "$$\n",
    "\n",
    "Aplicando essa mudança na primeira expressão, temos:\n",
    "\n",
    "$$\n",
    "v_1 = A v_0 = \\begin{bmatrix} x_1 & x_2 \\end{bmatrix} \\begin{bmatrix} \\lambda_1 & 0 \\\\ 0 & \\lambda_2 \\end{bmatrix} \\begin{bmatrix} x_1 & x_2 \\end{bmatrix}^{-1} v_{0}\n",
    "$$\n",
    "\n",
    "Na segunda iteração, temos:\n",
    "\n",
    "$$\n",
    "v_2 = A v_1 = \\left( A \\right) A v_0 = \\left( \\begin{bmatrix} x_1 & x_2 \\end{bmatrix} \\begin{bmatrix} \\lambda_1 & 0 \\\\ 0 & \\lambda_2 \\end{bmatrix} \\begin{bmatrix} x_1 & x_2 \\end{bmatrix}^{-1} \\right) \\begin{bmatrix} x_1 & x_2 \\end{bmatrix} \\begin{bmatrix} \\lambda_1 & 0 \\\\ 0 & \\lambda_2 \\end{bmatrix} \\begin{bmatrix} x_1 & x_2 \\end{bmatrix}^{-1}v_0\n",
    "$$\n",
    "\n",
    "Veja que podemos simplificar a multiplicação $ \\begin{bmatrix} x_1 & x_2 \\end{bmatrix}^{-1} \\begin{bmatrix} x_1 & x_2 \\end{bmatrix}$ no meio da cadeia de multiplicações, já que ela é igual à identidade. Ficamos então com:\n",
    "\n",
    "$$\n",
    "v_2 = \\begin{bmatrix} x_1 & x_2 \\end{bmatrix} \\begin{bmatrix} \\lambda_1 & 0 \\\\ 0 & \\lambda_2 \\end{bmatrix} \\begin{bmatrix} \\lambda_1 & 0 \\\\ 0 & \\lambda_2 \\end{bmatrix} \\begin{bmatrix} x_1 & x_2 \\end{bmatrix}^{-1}v_0\n",
    "$$\n",
    "\n",
    "Podemos resumir a multiplicação matricial $\\begin{bmatrix} \\lambda_1 & 0 \\\\ 0 & \\lambda_2 \\end{bmatrix} \\begin{bmatrix} \\lambda_1 & 0 \\\\ 0 & \\lambda_2 \\end{bmatrix}$ como $\\begin{bmatrix} \\lambda_1 & 0 \\\\ 0 & \\lambda_2 \\end{bmatrix}^2$, ficando com:\n",
    "\n",
    "$$\n",
    "v_2 = \\begin{bmatrix} x_1 & x_2 \\end{bmatrix} \\begin{bmatrix} \\lambda_1 & 0 \\\\ 0 & \\lambda_2 \\end{bmatrix} ^2 \\begin{bmatrix} x_1 & x_2 \\end{bmatrix}^{-1}v_0\n",
    "$$\n",
    "\n",
    "Fazendo uma nova multiplicação por $A$, vamos encontrar:\n",
    "$$\n",
    "v_3 = \\left( A \\right) v_2 = \\left( \\begin{bmatrix} x_1 & x_2 \\end{bmatrix} \\begin{bmatrix} \\lambda_1 & 0 \\\\ 0 & \\lambda_2 \\end{bmatrix} \\begin{bmatrix} x_1 & x_2 \\end{bmatrix}^{-1} \\right) \\begin{bmatrix} x_1 & x_2 \\end{bmatrix} \\begin{bmatrix} \\lambda_1 & 0 \\\\ 0 & \\lambda_2 \\end{bmatrix} ^2 \\begin{bmatrix} x_1 & x_2 \\end{bmatrix}^{-1}v_0\n",
    "$$\n",
    "\n",
    "Novamente, podemos trocar a multiplicação matricial $ \\begin{bmatrix} x_1 & x_2 \\end{bmatrix}^{-1} \\begin{bmatrix} x_1 & x_2 \\end{bmatrix}$ pela identidade, e agrupar $\\begin{bmatrix} \\lambda_1 & 0 \\\\ 0 & \\lambda_2 \\end{bmatrix} \\begin{bmatrix} \\lambda_1 & 0 \\\\ 0 & \\lambda_2 \\end{bmatrix}^2$ como $\\begin{bmatrix} \\lambda_1 & 0 \\\\ 0 & \\lambda_2 \\end{bmatrix}^3$, ficando com:\n",
    "\n",
    "$$\n",
    "v_3 = \\begin{bmatrix} x_1 & x_2 \\end{bmatrix} \\begin{bmatrix} \\lambda_1 & 0 \\\\ 0 & \\lambda_2 \\end{bmatrix} ^3 \\begin{bmatrix} x_1 & x_2 \\end{bmatrix}^{-1} v_0\n",
    "$$\n",
    "\n",
    "Podemos fazer essa mesma operação $N$ vezes, ficando com:\n",
    "\n",
    "$$\n",
    "v_N = \\begin{bmatrix} x_1 & x_2 \\end{bmatrix} \\begin{bmatrix} \\lambda_1 & 0 \\\\ 0 & \\lambda_2 \\end{bmatrix} ^N \\begin{bmatrix} x_1 & x_2 \\end{bmatrix}^{-1} v_0\n",
    "$$\n",
    "\n",
    "Como $\\begin{bmatrix} \\lambda_1 & 0 \\\\ 0 & \\lambda_2 \\end{bmatrix} ^N = \\begin{bmatrix} \\lambda_1 ^N & 0 \\\\ 0 & \\lambda_2 ^N \\end{bmatrix}$, a expressão fica:\n",
    "\n",
    "$$\n",
    "v_N = \\begin{bmatrix} x_1 & x_2 \\end{bmatrix} \\begin{bmatrix} \\lambda_1^N & 0 \\\\ 0 & \\lambda_2^N \\end{bmatrix} \\begin{bmatrix} x_1 & x_2 \\end{bmatrix}^{-1} v_0\n",
    "$$\n",
    "\n",
    "---\n",
    "\n",
    "Veja que agora sabemos que:\n",
    "$$\n",
    "A^N = \\begin{bmatrix} x_1 & x_2 \\end{bmatrix} \\begin{bmatrix} \\lambda_1^N & 0 \\\\ 0 & \\lambda_2^N \\end{bmatrix} \\begin{bmatrix} x_1 & x_2 \\end{bmatrix}^{-1}\n",
    "$$ \n",
    "\n",
    "Usando valores à sua escolha e supondo que $A \\in \\mathbb{R}^{2\\times 2}$, monte exemplos que mostrem o que acontece com os valores de $A^N$ se:\n",
    "\n",
    "1. Todos os auto-valores forem positivos e menores que 1.\n",
    "2. Somente um auto-valor for igual a 1, e os demais forem positivos e menores que 1.\n",
    "3. Um dos auto-valores for maior que 1.\n",
    "4. Todos os auto-valores forem iguais a 1.\n",
    "5. Relacione as suas respostas anteriores aos conceitos de *explosão* (tender ao infinito ao longo de muitas iterações), *colapso* (tender a zero ao longo de muitas iterações) e *equilíbrio* (tender a um valor constante não-zero ao longo de muitas iteraçõees)."
   ]
  },
  {
   "cell_type": "code",
   "execution_count": 27,
   "metadata": {},
   "outputs": [],
   "source": [
    "S = np.array( [[1, 0], [0.5, 0.5]]).T # Provavelmente podemos resolver este exercício sem alterar isso.\n",
    "L = np.array( [ [0.7, 0], [0, 0.2] ]) # Você provavelmente quer alterar esta linha!\n"
   ]
  },
  {
   "attachments": {},
   "cell_type": "markdown",
   "metadata": {},
   "source": [
    "# Exercício 6\n",
    "*Objetivo: relacionar colapso, explosão e equilíbrio situações práticas*\n",
    "\n",
    "Neste exercício, estamos buscando entender como podemos usar a equação que vimos acima:\n",
    "\n",
    "$$\n",
    "v_N = \\begin{bmatrix} x_1 & x_2 \\end{bmatrix} \\begin{bmatrix} \\lambda_1^N & 0 \\\\ 0 & \\lambda_2^N \\end{bmatrix} \\begin{bmatrix} x_1 & x_2 \\end{bmatrix}^{-1} v_0\n",
    "$$\n",
    "\n",
    "pode ser usada para encontrar comportamentos ao longo do tempo em sistemas dinâmicos."
   ]
  },
  {
   "attachments": {},
   "cell_type": "markdown",
   "metadata": {},
   "source": [
    "\n",
    "(a) Usando auto-valores e auto-vetores no caso da população de carcarás, justifique matematicamente o fato de que muito provavelmente a população deve tender a um equilíbrio ao longo de muitos meses. "
   ]
  },
  {
   "cell_type": "code",
   "execution_count": 28,
   "metadata": {},
   "outputs": [
    {
     "name": "stdout",
     "output_type": "stream",
     "text": [
      "[0.9 1. ]\n",
      "[[-0.89442719 -0.70710678]\n",
      " [-0.4472136  -0.70710678]]\n"
     ]
    }
   ],
   "source": [
    "A = np.array([[0.8, 0.2], [-0.1,  1.1]])\n",
    "w, v = np.linalg.eig(A)\n",
    "print(w)\n",
    "print(v)"
   ]
  },
  {
   "attachments": {},
   "cell_type": "markdown",
   "metadata": {},
   "source": [
    "(b) Partindo do caso da população de carcarás, suponha a seguinte situação. A população local decidiu que existem muitos carcarás nas redondezas, e por isso autorizou a caça. Com isso, ao fim do mês, ao invés de morrerem 20% dos carcarás existentes, morrem 80% dos carcarás existentes. Use auto-valores e auto-vetores para prever se esse processo de caça será eficaz para conter a população de carcarás. Após, confirme seu resultado usando uma simulação."
   ]
  },
  {
   "cell_type": "code",
   "execution_count": 31,
   "metadata": {},
   "outputs": [
    {
     "name": "stdout",
     "output_type": "stream",
     "text": [
      "[0.22279981 1.07720019]\n",
      "[[-0.99356476 -0.22229356]\n",
      " [-0.11326545 -0.97497978]]\n"
     ]
    },
    {
     "data": {
      "image/png": "[encoded data removed]",
      "text/plain": [
       "<Figure size 700x200 with 1 Axes>"
      ]
     },
     "metadata": {},
     "output_type": "display_data"
    }
   ],
   "source": [
    "A = np.array([[0.2, 0.2], [-0.1,  1.1]]) # Depois da caça, a nova matriz A ficou assim!!!\n",
    "\n",
    "w, v = np.linalg.eig(A)\n",
    "print(w)\n",
    "print(v)\n",
    "x = np.array([[1000, 1100]]).T\n",
    "\n",
    "populacao_carcaras = []\n",
    "populacao_sapos = []\n",
    "for _ in range(100):\n",
    "    populacao_carcaras.append(x[0,0])\n",
    "    populacao_sapos.append(x[1,0])\n",
    "    x = A @ x\n",
    "\n",
    "plt.figure(figsize=(7,2))\n",
    "plt.plot(populacao_carcaras, label='Carcarás')\n",
    "plt.plot(populacao_sapos, label='Sapos (* 1000)')\n",
    "# plt.ylim([0,800])\n",
    "plt.ylabel('População')\n",
    "plt.xlabel('Semanas')\n",
    "\n",
    "plt.show()"
   ]
  },
  {
   "attachments": {},
   "cell_type": "markdown",
   "metadata": {},
   "source": [
    "(c) Após a publicação de imagens chocantes sobre a caça dos carcarás, foram aprovadas leis de proteção e cuidado ambiental que fazem com que a mortalidade dos carcarás de um mês para o outro seja de apenas 19%. Usando auto-valores e auto-vetores, determine qual é o efeito dessa lei, a longo prazo, para as populações de carcarás e sapos na região."
   ]
  },
  {
   "cell_type": "code",
   "execution_count": 33,
   "metadata": {},
   "outputs": [
    {
     "name": "stdout",
     "output_type": "stream",
     "text": [
      "[0.92298438 0.98701562]\n",
      "[[-0.87067303 -0.74882458]\n",
      " [-0.49186226 -0.66276824]]\n"
     ]
    },
    {
     "data": {
      "image/png": "[encoded data removed]",
      "text/plain": [
       "<Figure size 700x200 with 1 Axes>"
      ]
     },
     "metadata": {},
     "output_type": "display_data"
    }
   ],
   "source": [
    "A = np.array([[0.81, 0.2], [-0.1,  1.1]]) # Depois da nova legislação, a nova matriz A ficou assim!!!\n",
    "\n",
    "\n",
    "w, v = np.linalg.eig(A)\n",
    "print(w)\n",
    "print(v)\n",
    "\n",
    "x = np.array([[1000, 1100]]).T\n",
    "\n",
    "populacao_carcaras = []\n",
    "populacao_sapos = []\n",
    "for _ in range(1000):\n",
    "    populacao_carcaras.append(x[0,0])\n",
    "    populacao_sapos.append(x[1,0])\n",
    "    x = A @ x\n",
    "\n",
    "plt.figure(figsize=(7,2))\n",
    "plt.plot(populacao_carcaras, label='Carcarás')\n",
    "plt.plot(populacao_sapos, label='Sapos (* 1000)')\n",
    "# plt.ylim([0,800])\n",
    "plt.ylabel('População')\n",
    "plt.xlabel('Semanas')\n",
    "\n",
    "plt.show()"
   ]
  },
  {
   "attachments": {},
   "cell_type": "markdown",
   "metadata": {},
   "source": [
    "# Parte 2"
   ]
  },
  {
   "attachments": {},
   "cell_type": "markdown",
   "metadata": {},
   "source": [
    "# Exercício 7\n",
    "*Objetivo: representar dados numéricos em uma matriz*\n",
    "\n",
    "Quando vamos processar uma grande quantidade de dados, podemos representá-los usando, por exemplo, dataframes de Pandas:"
   ]
  },
  {
   "cell_type": "code",
   "execution_count": 34,
   "metadata": {},
   "outputs": [
    {
     "name": "stdout",
     "output_type": "stream",
     "text": [
      "       col1      col2\n",
      "0  0.992616  1.746988\n",
      "1  0.858051 -0.168247\n",
      "2  0.452451 -0.073656\n",
      "3  1.349206  0.808691\n",
      "4 -1.804538 -0.076471\n"
     ]
    }
   ],
   "source": [
    "import pandas as pd\n",
    "import numpy as np\n",
    "col1 = np.random.randn(5)\n",
    "col2 = np.random.randn(5)\n",
    "df = pd.DataFrame()\n",
    "df['col1'] = col1\n",
    "df['col2'] = col2\n",
    "print(df.head())"
   ]
  },
  {
   "attachments": {},
   "cell_type": "markdown",
   "metadata": {},
   "source": [
    "Podemos passar nossos dados para um array de Numpy usando:"
   ]
  },
  {
   "cell_type": "code",
   "execution_count": 35,
   "metadata": {},
   "outputs": [
    {
     "name": "stdout",
     "output_type": "stream",
     "text": [
      "[[ 0.99261611  1.74698839]\n",
      " [ 0.85805129 -0.16824675]\n",
      " [ 0.45245106 -0.07365624]\n",
      " [ 1.34920628  0.80869145]\n",
      " [-1.80453768 -0.0764713 ]]\n"
     ]
    }
   ],
   "source": [
    "data = df[['col1', 'col2']].to_numpy()\n",
    "print(data)"
   ]
  },
  {
   "attachments": {},
   "cell_type": "markdown",
   "metadata": {},
   "source": [
    "Neste exercício, temos o objetivo de usar um array de numpy para substituir o dataframe. Usaremos o conjunto de dados [Automobile Data](https://www.kaggle.com/datasets/toramky/automobile-dataset), que é uma compilação de dados do *1985 Ward's Automotive Yearbook* e de informações fornecidas por companhias de seguro da época. Para este exercício, estamos especialmente interessados nas *features* *curb-weight* (o peso total de um veículo com o tanque cheio, sem contar os passageiros) e *highway-mpg* (o consumo de combustível do veículo, em milhas por galão).\n",
    "\n",
    "(a) Modifique o código abaixo para que as duas colunas com dados fiquem em um numpy array `X` de dimensão `N x 2`, onde `N` é o número de veículos do dataset;\n",
    "\n",
    "(b) Modifique o código abaixo para que a chamada `plt.scatter` use o array `X` ao invés de chamar o dataframe diretamente;\n",
    "\n",
    "(c) Quais informações foram perdidas quando passamos a usar arrays de numpy no lugar de um dataframe?"
   ]
  },
  {
   "cell_type": "code",
   "execution_count": 36,
   "metadata": {},
   "outputs": [
    {
     "data": {
      "image/png": "[encoded data removed]",
      "text/plain": [
       "<Figure size 640x480 with 1 Axes>"
      ]
     },
     "metadata": {},
     "output_type": "display_data"
    }
   ],
   "source": [
    "import matplotlib.pyplot as plt\n",
    "\n",
    "df = pd.read_csv('Automobile_data.csv')\n",
    "features = [\"highway-mpg\", \"curb-weight\"]\n",
    "df = df[features]\n",
    "\n",
    "plt.figure()\n",
    "plt.scatter(df['highway-mpg'], df['curb-weight'])\n",
    "plt.show()"
   ]
  },
  {
   "attachments": {},
   "cell_type": "markdown",
   "metadata": {},
   "source": [
    "# Exercício 8\n",
    "\n",
    "*Objetivo: relacionar a equação da matriz de covariância a seu código computacional*\n",
    "\n",
    "Lembre-se que a covariância entre duas colunas $x$ e $y$ de um `dataframe` é calculada por:\n",
    "\n",
    "$$\n",
    "C = \\frac{\\sum_{n=0}^{N-1} (x_n-\\bar{x})(y_n-\\bar{y})}{N-1}\n",
    "$$\n",
    "\n",
    "Podemos usar Pandas imediatamente para calcular a covariância entre todas as colunas de um dataframe usando:"
   ]
  },
  {
   "cell_type": "code",
   "execution_count": 37,
   "metadata": {},
   "outputs": [
    {
     "data": {
      "text/html": [
       "<div>\n",
       "<style scoped>\n",
       "    .dataframe tbody tr th:only-of-type {\n",
       "        vertical-align: middle;\n",
       "    }\n",
       "\n",
       "    .dataframe tbody tr th {\n",
       "        vertical-align: top;\n",
       "    }\n",
       "\n",
       "    .dataframe thead th {\n",
       "        text-align: right;\n",
       "    }\n",
       "</style>\n",
       "<table border=\"1\" class=\"dataframe\">\n",
       "  <thead>\n",
       "    <tr style=\"text-align: right;\">\n",
       "      <th></th>\n",
       "      <th>highway-mpg</th>\n",
       "      <th>curb-weight</th>\n",
       "    </tr>\n",
       "  </thead>\n",
       "  <tbody>\n",
       "    <tr>\n",
       "      <th>highway-mpg</th>\n",
       "      <td>47.423099</td>\n",
       "      <td>-2859.417360</td>\n",
       "    </tr>\n",
       "    <tr>\n",
       "      <th>curb-weight</th>\n",
       "      <td>-2859.417360</td>\n",
       "      <td>271107.874319</td>\n",
       "    </tr>\n",
       "  </tbody>\n",
       "</table>\n",
       "</div>"
      ],
      "text/plain": [
       "             highway-mpg    curb-weight\n",
       "highway-mpg    47.423099   -2859.417360\n",
       "curb-weight -2859.417360  271107.874319"
      ]
     },
     "execution_count": 37,
     "metadata": {},
     "output_type": "execute_result"
    }
   ],
   "source": [
    "df.cov()"
   ]
  },
  {
   "attachments": {},
   "cell_type": "markdown",
   "metadata": {},
   "source": [
    "Neste exercício, vamos implementar essa mesma operação em Numpy. Para isso, use o array $X$ que você criou no exercício anterior. Uma das opções é usar o procedimento abaixo:\n",
    "\n",
    "(a) Centralizar cada coluna, isto é, subtrair, de cada coluna, seu valor médio (implementando as operações $x_n-\\bar{x}$ e $y_n-\\bar{y}$)\n",
    "\n",
    "(b) Multiplicar as colunas elemento a elemento (usando o operador `*`)\n",
    "\n",
    "(c) Somar o resultado da multiplicação ($np.sum$)\n",
    "\n",
    "(d) Dividir o resultado por $N-1$.\n",
    "\n",
    "Outra opção é usar a biblioteca `numpy` para calcular a matriz de covariância:"
   ]
  },
  {
   "cell_type": "code",
   "execution_count": 40,
   "metadata": {},
   "outputs": [
    {
     "name": "stdout",
     "output_type": "stream",
     "text": [
      "[[    47.423099    -2859.41736011]\n",
      " [ -2859.41736011 271107.87431851]]\n"
     ]
    },
    {
     "data": {
      "text/plain": [
       "array([[    47.423099  ,  -2859.41736011],\n",
       "       [ -2859.41736011, 271107.87431851]])"
      ]
     },
     "execution_count": 40,
     "metadata": {},
     "output_type": "execute_result"
    }
   ],
   "source": [
    "np.set_printoptions(suppress = True) #impede a notação científica\n",
    "\n",
    "X = df.to_numpy()\n",
    "y = np.mean(X, axis=0, keepdims=True) # calculando a media das duas colunas\n",
    "X = X - np.mean(X, axis=0, keepdims=True) # Linha 2 # tirando de cada valor a media\n",
    "C = X.T @ X # Linha 3 # multiplicando todos os valores de uma coluna com a outra\n",
    "C /= X.shape[0]-1 # Linha 4\n",
    "\n",
    "print(C)\n",
    "np.cov(X.T) #da o mesmo resultado, então C = X^T X/N-1 dado que os dados foram centralizados \n",
    "# (tirado a media da coluna de todos os valores)\n"
   ]
  },
  {
   "attachments": {},
   "cell_type": "markdown",
   "metadata": {},
   "source": [
    "Relacione cada uma das linhas do código acima a uma parte da equação da covariância."
   ]
  },
  {
   "attachments": {},
   "cell_type": "markdown",
   "metadata": {},
   "source": [
    "# Exercício 9\n",
    "*Objetivo: relacionar os autovetores da matriz de covariância à direção de espalhamento dos dados*\n",
    "\n",
    "Os autovalores e autovetores da matriz de covariância podem ser calculados por:"
   ]
  },
  {
   "cell_type": "code",
   "execution_count": 47,
   "metadata": {},
   "outputs": [
    {
     "name": "stdout",
     "output_type": "stream",
     "text": [
      "[    17.26245425 271138.03496326]\n",
      "\n",
      "[[-0.99994438  0.01054724]\n",
      " [-0.01054724 -0.99994438]]\n"
     ]
    }
   ],
   "source": [
    "w, v = np.linalg.eig(C)\n",
    "print(w)\n",
    "print()\n",
    "print(v)\n",
    "v0 = v[:,0]\n",
    "v1 = v[:,1]"
   ]
  },
  {
   "attachments": {},
   "cell_type": "markdown",
   "metadata": {},
   "source": [
    "(a) Qual dos autovetores de $C$ está ligado a um autovalor mais alto?\n",
    "\n",
    "(b) Use como base o código abaixo. Adicione nele uma reta na direção do autovetor que você escolheu no ítem (a). Você está buscando um resultado parecido com:\n",
    "\n",
    "<img src=\"reta_pca_1.png\"></img>\n",
    "\n",
    "(c) O que a reta desenhada no ítem (b) indica sobre os seus dados?"
   ]
  },
  {
   "cell_type": "code",
   "execution_count": 62,
   "metadata": {},
   "outputs": [
    {
     "data": {
      "image/png": "[encoded data removed]",
      "text/plain": [
       "<Figure size 640x480 with 1 Axes>"
      ]
     },
     "metadata": {},
     "output_type": "display_data"
    }
   ],
   "source": [
    "import numpy as np\n",
    "import pandas as pd\n",
    "import matplotlib.pyplot as plt\n",
    "\n",
    "X = df.to_numpy()\n",
    "X = X - np.mean(X, axis=0, keepdims=True) # Linha 2\n",
    "C = X.T @ X # Linha 3\n",
    "C /= X.shape[0]-1 # Linha \n",
    "w, v = np.linalg.eig(C)\n",
    "\n",
    "auto_vetor1 = v[:,1]\n",
    "auto_valor = w[1]\n",
    "auto_vetor2 = v[:,0]\n",
    "\n",
    "plt.figure()\n",
    "plt.scatter(X[:,0], X[:,1])\n",
    "plt.xlim(-18,25)\n",
    "plt.plot([auto_vetor1[0]*-10000,auto_vetor1[0]*10000],[auto_vetor1[1]*-10000,auto_vetor1[1]*10000],c='r')\n",
    "plt.plot([auto_vetor2[0]*-10000,auto_vetor2[0]*10000],[auto_vetor2[1]*-10000,auto_vetor2[1]*10000],c='g')\n",
    "plt.ylim(-1200,1700)\n",
    "plt.show()"
   ]
  },
  {
   "attachments": {},
   "cell_type": "markdown",
   "metadata": {},
   "source": [
    "# Exercício 10\n",
    "*Objetivo: fazer uma projeção PCA como uma mudança de bases*\n",
    "\n",
    "No exercício anterior, vimos que nossos pontos, embora tenham duas dimensões, podem ser razoavelmente bem explicados usando somente uma reta. Então, se pudermos projetar nossos pontos sobre essa reta, podemos reduzir o número de dimensões (ou: reduzir o número de *features*) relacionado a cada ponto.\n",
    "\n",
    "Lembre-se que uma *base* significa que passamos a representar nossos pontos como a combinação linear de vetores-base. Se a base tem vetores-linha $v_1$ e $v_2$, então nossos pontos originais $X$ podem ser representados como pontos $Y$ se:\n",
    "\n",
    "$$\n",
    " Y [v_1, v_2]^T= X\n",
    "$$\n",
    "\n",
    "Lembre-se que, neste caso, $X$ e $Y$ devem ter um ponto por linha e uma feature por coluna.\n",
    "\n",
    "Então, podemos encontrar $Y$ usando:\n",
    "$$\n",
    " Y = X ([v_1, v_2]^T) ^{-1}\n",
    "$$\n",
    "\n",
    "À partir do código abaixo, obtenha a matriz $Y$ e escolha somente a coluna correspondente à reta que você traçou no exercício anterior. Mostre, na figura abaixo, onde os pontos \"reduzidos\" de $Y$ devem aparecer na reta. Você deve encontrar algo parecido com:\n",
    "\n",
    "<img src=\"projecao_pca_1.png\"></img>"
   ]
  },
  {
   "cell_type": "code",
   "execution_count": 67,
   "metadata": {},
   "outputs": [
    {
     "data": {
      "image/png": "[encoded data removed]",
      "text/plain": [
       "<Figure size 300x300 with 1 Axes>"
      ]
     },
     "metadata": {},
     "output_type": "display_data"
    }
   ],
   "source": [
    "X = df.to_numpy()\n",
    "X = X - np.mean(X, axis=0, keepdims=True)\n",
    "# y= X@np.linalg.inv(v.T) matriz v é igual tanto transposta quanto normal\n",
    "y = X@v \n",
    "#print(Y)\n",
    "plt.figure(figsize=(3,3))\n",
    "\n",
    "plt.scatter(X[:,0], X[:,1], c='b', label='Pontos originais')\n",
    "plt.scatter(y[:,1]*v[0,1], y[:,1]*v[1,1], c='r', label='Pontos projetados')\n",
    "plt.xlim(-18,25)\n",
    "plt.ylim(-1200,1700)\n",
    "plt.show()"
   ]
  },
  {
   "attachments": {},
   "cell_type": "markdown",
   "metadata": {},
   "source": [
    "# Parte 3"
   ]
  },
  {
   "attachments": {},
   "cell_type": "markdown",
   "metadata": {},
   "source": [
    "Nesta parte, vamos usar a ideia de projetar elementos em um espaço de dimensão mais baixa para visualizar dados.\n",
    "\n",
    "Para isso, precisamos de um resultado teórico, que é o seguinte:\n",
    "\n",
    "A matriz de auto-vetores $P$ da matriz de covariância $C$ é ortonormal, isto é:\n",
    "\n",
    "$$\n",
    "P^{-1} = P^T\n",
    "$$\n",
    "\n",
    "A demonstração disso é opcional, embora interessante, e está num [arquivo separado](demonstracao_ortonormalidade.md)."
   ]
  },
  {
   "attachments": {},
   "cell_type": "markdown",
   "metadata": {},
   "source": [
    "# Exercício 11\n",
    "**Objetivo: fazer uma projeção PCA para visualizar dados de alta dimensão**\n",
    "\n",
    "Existe um problema que encontramos em muitos conjuntos de dados, que é o fato de eles terem *muitas* features. Quando isso acontece, é difícil visualizar os nossos pontos. Uma das possíveis soluções para isso é encontrar os auto-vetores e auto-valores da matriz de covariância dos dados, e então usar somente os dois auto-vetores ligados aos maiores auto-valores para projetar nossos dados. Desta forma, temos uma projeção que permite a visualização dos dados levando à pouca distorção de suas posições.\n",
    "\n",
    "Este procedimento se chama Análise de Componentes Principais, ou Principal Component Analysis (PCA). Trata-se de um algoritmo bem conhecido, que está executado abaixo.\n",
    "\n",
    "Partindo do código, responda:\n",
    "\n",
    "a) Quantas features existem na variável `X` originalmente?\n",
    "\n",
    "b) Qual é a dimensão da matriz de covariância `C`?\n",
    "\n",
    "c) Qual é a linha que seleciona os auto-vetores relacionados aos maiores auto-valores?\n",
    "\n",
    "d) Qual é a linha que projeta as features `X` sobre a base formada pelos dois auto-vetores escolhidos?\n",
    "\n",
    "e) Por que a forma $Y = XV$ é equivalente a $Y = X(V^{-1})^T$? Dica: use a demonstração acima!\n",
    "\n",
    "f) Quantas features há em $Y$?"
   ]
  },
  {
   "cell_type": "code",
   "execution_count": 74,
   "metadata": {},
   "outputs": [
    {
     "data": {
      "text/plain": [
       "array([3, 2, 0, 1])"
      ]
     },
     "execution_count": 74,
     "metadata": {},
     "output_type": "execute_result"
    }
   ],
   "source": [
    "a = np.array([5,10,3,2])\n",
    "np.argsort(a)\n",
    "\n",
    "#a) 10, features é o numero de colunas \n",
    "\n",
    "#b) 10 x 10\n",
    "\n",
    "#c"
   ]
  },
  {
   "cell_type": "code",
   "execution_count": 75,
   "metadata": {},
   "outputs": [
    {
     "data": {
      "image/png": "[encoded data removed]",
      "text/plain": [
       "<Figure size 640x480 with 1 Axes>"
      ]
     },
     "metadata": {},
     "output_type": "display_data"
    }
   ],
   "source": [
    "# Carregando dados novamente\n",
    "df = pd.read_csv('Automobile_data.csv').select_dtypes(['number'])\n",
    "X = df.to_numpy()\n",
    "\n",
    "# Calculando matriz de covariância\n",
    "X = X - np.mean(X, axis=0, keepdims=True)\n",
    "C = X.T @ X\n",
    "C /= X.shape[0]-1\n",
    "w, v = np.linalg.eig(C)\n",
    "\n",
    "w_ = np.argsort(w)\n",
    "\n",
    "V = v [ :, [w_[-1], w_[-2]]]\n",
    "Y = X @ V\n",
    "\n",
    "plt.figure()\n",
    "plt.scatter(Y[:,0], Y[:,1])\n",
    "plt.show()\n"
   ]
  },
  {
   "attachments": {},
   "cell_type": "markdown",
   "metadata": {},
   "source": [
    "# Exercício 12\n",
    "**Objetivo: usar a biblioteca sklearn para realizar uma projeção PCA**\n",
    "\n",
    "O código abaixo exemplifica o uso da biblioteca `sklearn` para realizar uma projeção PCA equivalente à que fizemos acima.\n",
    "\n",
    "a) Observando as figuras geradas, você diria que os códigos fazem procedimentos equivalentes?\n",
    "\n",
    "b) A variável `pca.components_` mostra os componentes principais encontrados pela projeção. Como ela se relaciona à matriz `V` do exercício acima?\n",
    "\n",
    "c) A variável `pca.explained_variance_ratio` mostra o quanto da variância dos dados está explicada por cada componente da projeção. Verificando os resultados desta projeção, você diria que é seguro assumir que os dados estão praticamente posicionados sobre uma reta?"
   ]
  },
  {
   "cell_type": "code",
   "execution_count": 85,
   "metadata": {},
   "outputs": [
    {
     "data": {
      "image/png": "[encoded data removed]",
      "text/plain": [
       "<Figure size 640x480 with 1 Axes>"
      ]
     },
     "metadata": {},
     "output_type": "display_data"
    },
    {
     "name": "stdout",
     "output_type": "stream",
     "text": [
      "[[-0.00054215  0.00895069  0.02073686  0.00356278  0.00137928  0.9973234\n",
      "   0.06796253  0.00114694 -0.00949286 -0.01051998]\n",
      " [ 0.01030769 -0.05217141 -0.07595278 -0.00116602 -0.04100802 -0.06550985\n",
      "   0.99201139 -0.03605804 -0.00645257 -0.00031476]\n",
      " [-0.07908923  0.32029232  0.35106095  0.03712346  0.16098236 -0.00511749\n",
      "   0.06955305  0.41067966  0.54661588  0.51798643]\n",
      " [ 0.04243432 -0.31344065 -0.80349366 -0.05238402 -0.1206205   0.03045384\n",
      "  -0.07104473  0.23071315  0.30077792  0.29561482]\n",
      " [ 0.17854266 -0.60921638  0.3632513  -0.00385991 -0.22268623 -0.00517407\n",
      "   0.0054046   0.6131802  -0.18911275 -0.06010651]]\n",
      "[0.99785579 0.00176616 0.00016719 0.00014251 0.00002687]\n"
     ]
    }
   ],
   "source": [
    "from sklearn.decomposition import PCA\n",
    "\n",
    "df = pd.read_csv('Automobile_data.csv').select_dtypes(['number'])\n",
    "X = df.to_numpy()\n",
    "pca = PCA(5)\n",
    "Y = pca.fit_transform(X)\n",
    "\n",
    "plt.figure()\n",
    "plt.scatter(Y[:,0], Y[:,1])\n",
    "plt.show()\n",
    "\n",
    "print(pca.components_)\n",
    "print(pca.explained_variance_ratio_)"
   ]
  },
  {
   "attachments": {},
   "cell_type": "markdown",
   "metadata": {},
   "source": [
    "# Parte 4"
   ]
  },
  {
   "attachments": {},
   "cell_type": "markdown",
   "metadata": {},
   "source": [
    "# Exercício 13\n",
    "**Objetivo: ligar a decomposição por auto-valores e auto-vetores ao seu respectivo código computacional e verificar sua limitação para matrizes quadradas**\n",
    "\n",
    "Já sabemos que uma matriz quadrada $X$ pode ser decomposta em termos de seus auto-vetores (na matriz $P$) e auto-valores (na diagonal da matriz $D$) na forma:\n",
    "\n",
    "$$\n",
    "A = P D P^{-1}.\n",
    "$$\n",
    "\n",
    "O código abaixo realiza essa decomposição e a recomposição.\n",
    "\n",
    "a) Por que a matriz `B` no código é igual à matriz `A`?\n",
    "\n",
    "b) Modifique o código para que a matriz `A` deixe de ser quadrada (por exemplo, adicionando uma linha ou coluna). Que erro é apontado no código?\n",
    "\n",
    "c) Se a matriz $A$ na equação $A = P D P^{-1}$ não for quadrada, que problema deve aparecer na operação $P D P^{-1}$ em relação à dimensões de $P$ e $D$?\n"
   ]
  },
  {
   "cell_type": "code",
   "execution_count": null,
   "metadata": {},
   "outputs": [],
   "source": [
    "A = np.array( [[1, 2], [2, 3]] )\n",
    "w, v = np.linalg.eig(A)\n",
    "#print(w, v)\n",
    "w_ = np.diag(w)\n",
    "#print(w_)\n",
    "B = v @ w_ @ np.linalg.inv(v)\n",
    "\n",
    "print(B)"
   ]
  },
  {
   "attachments": {},
   "cell_type": "markdown",
   "metadata": {},
   "source": [
    "# Exercício 14\n",
    "**Objetivo: entender SVD como uma decomposição**\n",
    "\n",
    "Quando calculamos $P$ e $D$ em $A=PDP^{-1}$, estamos *decompondo* a matriz $A$ em *componentes* ($P$, $D$ e $P^{-1}$).\n",
    "\n",
    "Essa decomposição não é a única possibilidade. Uma outra, muito utilizada, é a decomposição em valores singulares (*Singular Value Decomposition*, ou **SVD**):\n",
    "\n",
    "$$\n",
    "A = U \\Sigma V^T\n",
    "$$\n",
    "\n",
    "No código abaixo:\n",
    "\n",
    "a) Confirme que a matriz `B` é igual à matriz `A`\n",
    "\n",
    "b) Compare o conteúdo das matrizes `u`, `sigma` e `vt` ao conteúdo das matrizes `v` e `w_` no exercício anterior.\n",
    "\n",
    "c) Altere o código para verificar se a decomposição SVD ainda funciona se a matriz `A` não for quadrada.\n",
    "\n",
    "d) Se a matriz `A` não é quadrada, quais são as dimensões das matrizes `u`, `sigma` e `vt`?\n",
    "\n",
    "e) O que a função `diagsvd` faz, e por que ela tem três parâmetros?"
   ]
  },
  {
   "cell_type": "code",
   "execution_count": null,
   "metadata": {},
   "outputs": [],
   "source": [
    "from scipy.linalg import svd, diagsvd\n",
    "import numpy as np\n",
    "A = np.array( [[1, 2], [2, 3]] )\n",
    "u, s, vt = svd(A)\n",
    "sigma = diagsvd(s, A.shape[0], A.shape[1])\n",
    "\n",
    "B = u @ sigma @ vt\n",
    "print(A)\n",
    "print(B)"
   ]
  },
  {
   "attachments": {},
   "cell_type": "markdown",
   "metadata": {},
   "source": [
    "# Exercício 15\n",
    "**Objetivo: comparar SVD ao PCA**\n",
    "\n",
    "Na decomposição SVD, usamos a formulação:\n",
    "\n",
    "$\n",
    "A = U \\Sigma V^T,\n",
    "$\n",
    "\n",
    "onde:\n",
    "\n",
    "* As colunas de $U$ são os auto-vetores de $A^T A$,\n",
    "* As colunas de $V$ (e, portanto, as linhas de $V^T$) são auto-vetores de $A A^T$,\n",
    "* $\\Sigma$ é uma matriz onde $s_{i,i}$ é a raiz quadrada dos auto-valores de $A^T A$ ou de $A A^T$.\n",
    "\n",
    "A [demonstração disso está aqui](./demonstracao_svd.md), e uma outra perspectiva sobre essa demonstração está [aqui](https://gregorygundersen.com/blog/2018/12/20/svd-proof/).\n",
    "\n",
    "\n",
    "---\n",
    "\n",
    "Na decomposição PCA, calculamos a matriz de covariância $C = A A^T$ e fazemos a projeção:\n",
    "\n",
    "$\n",
    "C = P D P^T,\n",
    "$\n",
    "\n",
    "onde:\n",
    "\n",
    "* As colunas de $P$ são os auto-vetores de $C=A A^T$,\n",
    "* A diagonal principal de $D$ tem os auto-valores de $C$.\n",
    "\n",
    "---\n",
    "\n",
    "Lembrando-se disso:\n",
    "\n",
    "a) Como poderíamos usar a decomposição SVD para encontrar os componentes principais de $A$? \n",
    "\n",
    "b) Seria correto dizer que: \"a decomposição SVD e a decomposição PCA são a mesma decomposição\"?"
   ]
  },
  {
   "attachments": {},
   "cell_type": "markdown",
   "metadata": {},
   "source": [
    "# Exercício 16\n",
    "**Objetivo: Manipular a matriz $\\Sigma$ em uma imagem e verificar os resultados**\n",
    "\n",
    "O código abaixo abre uma imagem em tons de cinza e faz uma decomposição SVD.\n",
    "\n",
    "a) Qual é a dimensão da imagem lida?\n",
    "\n",
    "b) Quais são as dimensões das matrizes `u`, `sigma` e `vt`?\n",
    "\n",
    "c) Os valores da matriz `sigma` vêm da matriz `s`. O que acontece com a imagems se o primeiro elemento de `s` for modificado para ficar igual a `0` (dica: use `s[0] *= 0`)?\n",
    "\n",
    "d) Remova progressivamente mais elementos da matriz `s` igualando-os a zero. O que acontece com a imagem formada?\n",
    "\n",
    "e) Agora, remova elementos do *final* da matriz `s` igualando-os a zero. O que acontece com a imagem?\n",
    "\n",
    "f) Experimente perceptualmente e verifique quantos elementos você consegue remover do final da matriz `s` até que perceba alguma diferença na imagem?"
   ]
  },
  {
   "cell_type": "code",
   "execution_count": null,
   "metadata": {},
   "outputs": [],
   "source": [
    "from scipy.linalg import svd, diagsvd\n",
    "import matplotlib.image as mpimg\n",
    "\n",
    "A = mpimg.imread(\"rabbit.jpeg\").mean(axis=2)[0::4,0::4]\n",
    "\n",
    "u, s, vt = svd(A)\n",
    "\n",
    "# Altere daqui para baixo\n",
    "s = s\n",
    "s[-100:] *= 0.0\n",
    "# Altere daqui para cima\n",
    "\n",
    "sigma = diagsvd(s, A.shape[0], A.shape[1])\n",
    "\n",
    "B = u @ sigma @ vt\n",
    "\n",
    "plt.subplot(1,2,1)\n",
    "plt.title('Imagem original')\n",
    "plt.imshow(A, cmap='gray')\n",
    "plt.subplot(1,2,2)\n",
    "plt.title('Imagem alterada')\n",
    "plt.imshow(B, cmap='gray')\n",
    "plt.show()"
   ]
  },
  {
   "attachments": {},
   "cell_type": "markdown",
   "metadata": {},
   "source": [
    "# Exercício 17\n",
    "**Objetivo: Remover ruídos de uma imagem manipulando a matriz S**\n",
    "\n",
    "Uma possível maneira de remover ruídos de uma imagem é a seguinte:\n",
    "\n",
    "* Fazemos a decomposiçao SVD da imagem\n",
    "* Removemos os elementos de menor magnitude da matriz $\\Sigma$\n",
    "* Reconstituímos a imagem\n",
    "\n",
    "a) Aplique esse procedimento para tentar remover os ruídos que foram adicionados à imagem abaixo.\n",
    "\n",
    "b) Qual é a relação entre o ruído removido da imagem e a distorção causada na imagem?"
   ]
  },
  {
   "cell_type": "code",
   "execution_count": null,
   "metadata": {},
   "outputs": [],
   "source": [
    "from scipy.linalg import svd, diagsvd\n",
    "import matplotlib.image as mpimg\n",
    "\n",
    "A = mpimg.imread(\"rabbit.jpeg\").mean(axis=2)[0::4,0::4]\n",
    "alpha = 0.3\n",
    "A += alpha * np.random.random(A.shape) * np.max(A)\n",
    "\n",
    "u, s, vt = svd(A)\n",
    "\n",
    "# Altere daqui para baixo\n",
    "s = s\n",
    "s[-170:] *= 0\n",
    "# Altere daqui para cima\n",
    "\n",
    "sigma = diagsvd(s, A.shape[0], A.shape[1])\n",
    "\n",
    "B = u @ sigma @ vt\n",
    "\n",
    "\n",
    "plt.subplot(1,2,1)\n",
    "plt.title('Imagem ruidosa')\n",
    "plt.imshow(A, cmap='gray')\n",
    "plt.subplot(1,2,2)\n",
    "plt.title('Imagem com ruído removido')\n",
    "plt.imshow(B, cmap='gray')\n",
    "plt.show()"
   ]
  },
  {
   "attachments": {},
   "cell_type": "markdown",
   "metadata": {},
   "source": [
    "# Exercício 18\n",
    "**Objetivo: Comprimir uma imagem modificando a matriz $\\Sigma$**\n",
    "\n",
    "Muitas vezes, admitimos perdas em um processo de compressão. Isso acontece, por exemplo, em compressão de imagens ou de sons: uma pequena distorção, quase imperceptível, é aceitável, desde que isso possibilite comprimir dados.\n",
    "\n",
    "A compressão de dados funciona \"apagando\" elementos de uma imagem ou de um som. As diferentes estratégias de compressão se diferenciam em *como escolher* os elementos que são mais imperceptíveis dentro de uma imagem ou som.\n",
    "\n",
    "Nesta atividade, vamos fazer um compressor de imagens baseado em SVD. O método aplicado é bem conhecido, e uma boa explicação dele pode ser encontrada [aqui](https://medium.com/balabit-unsupervised/image-compression-using-singular-value-decomposition-de20451c69a3).\n",
    "\n",
    "Veja que, quando eliminamos valores de $\\Sigma$ fazendo-os ficar igual a zero, isso é equivalente a remover alguns elementos das matrizes $U$ e de $V^T$. Por exemplo, na decomposição:\n",
    "\n",
    "$$\n",
    "U \\Sigma V^T = \n",
    "\\begin{bmatrix}\n",
    "1 & 2 \\\\\n",
    "3 & 4\n",
    "\\end{bmatrix}\n",
    "\\begin{bmatrix}\n",
    "1 & 0 \\\\\n",
    "0 & 0.2\n",
    "\\end{bmatrix}\n",
    "\\begin{bmatrix}\n",
    "4 & 3 \\\\\n",
    "2 & 1\n",
    "\\end{bmatrix}\n",
    "$$\n",
    "\n",
    "Se eliminamos o valor $0.2$ de $\\Sigma$, ficamos com:\n",
    "\n",
    "$$ \n",
    "\\begin{bmatrix}\n",
    "1 & 2 \\\\\n",
    "3 & 4\n",
    "\\end{bmatrix}\n",
    "\\begin{bmatrix}\n",
    "1 & 0 \\\\\n",
    "0 & 0\n",
    "\\end{bmatrix}\n",
    "\\begin{bmatrix}\n",
    "4 & 3 \\\\\n",
    "2 & 1\n",
    "\\end{bmatrix}\n",
    "\n",
    "= \n",
    "\\begin{bmatrix}\n",
    "4 & 3 \\\\\n",
    "12 & 9\n",
    "\\end{bmatrix}\n",
    "\n",
    "$$\n",
    "\n",
    "Isso é equivalente a simplemente remover esse valor de $\\Sigma$, e remover as linhas e colunas de $U$ e $V^T$ que seriam multiplicadas por ele. Daí, ficamos com:\n",
    "$$\n",
    "\\begin{bmatrix}\n",
    "1  \\\\\n",
    "3 \n",
    "\\end{bmatrix}\n",
    "\\begin{bmatrix}\n",
    "1 \n",
    "\\end{bmatrix}\n",
    "\\begin{bmatrix}\n",
    "4 & 3 \\\\\n",
    "\\end{bmatrix}\n",
    "= \n",
    "\\begin{bmatrix}\n",
    "4 & 3 \\\\\n",
    "12 & 9\n",
    "\\end{bmatrix}\n",
    "$$\n",
    "\n",
    "A vantagem de remover linhas e colunas diretamente é que passamos a precisar de menos espaço para armazenar nossos dados!\n",
    "\n",
    "---\n",
    "\n",
    "Analise o código abaixo. Ele é bastante parecido com o código acima, Altere a função `comprimir` para que ela realize a remoção de elementos que foi mostrada acima. Teste seu código!!!\n",
    "\n",
    "a) Como o valor de $K$ influencia a compressão da imagem e a qualidade da imagem final?\n",
    "\n",
    "b) Qual é o menor valor de $K$ para o qual a imagem não perde qualidade?\n",
    "\n",
    "c) Qual é o maior valor de $K$ que permite reduzir o tamanho ocupado pela imagem?"
   ]
  },
  {
   "cell_type": "code",
   "execution_count": null,
   "metadata": {},
   "outputs": [],
   "source": [
    "from scipy.linalg import svd, diagsvd\n",
    "import matplotlib.image as mpimg\n",
    "import matplotlib.pyplot as plt\n",
    "import numpy as np\n",
    "\n",
    "# Altere esta função!\n",
    "def comprimir (u, s, vt, K):\n",
    "    \"\"\"Remove elementos de u, s e vt deixando somente K componentes restantes\n",
    "    \"\"\" \n",
    "    u_ = u[:,K:K+1]\n",
    "    s_ = s[K:K+1]\n",
    "    vt_ = vt[K:K+1,:]\n",
    "    return u_, s_, vt_\n",
    "\n",
    "A = mpimg.imread(\"rabbit.jpeg\")\n",
    "\n",
    "u0, s0, vt0 = svd(A[:,:,0])\n",
    "u1, s1, vt1 = svd(A[:,:,1])\n",
    "u2, s2, vt2 = svd(A[:,:,2])\n",
    "\n",
    "n_bytes_inicial = A.nbytes\n",
    "print(\"Tamanho inicial da imagem (bytes): \", n_bytes_inicial)\n",
    "\n",
    "K = 4\n",
    "\n",
    "u0, s0, vt0 = comprimir(u0, s0, vt0, K)\n",
    "u1, s1, vt1 = comprimir(u1, s1, vt1, K)\n",
    "u2, s2, vt2 = comprimir(u2, s2, vt2, K)\n",
    "\n",
    "sigma0 = diagsvd(s0, u0.shape[1], vt0.shape[0])\n",
    "sigma1 = diagsvd(s1, u1.shape[1], vt1.shape[0])\n",
    "sigma2 = diagsvd(s2, u2.shape[1], vt2.shape[0])\n",
    "\n",
    "n_bytes_final = u0.nbytes + u1.nbytes + u2.nbytes + s0.nbytes + s1.nbytes + s2.nbytes + vt0.nbytes + vt1.nbytes + vt2.nbytes\n",
    "print(\"Tamanho da representação comprimida: \", n_bytes_final)\n",
    "print(\"Compressão:\", n_bytes_final / n_bytes_inicial)\n",
    "\n",
    "B = np.zeros_like(A)\n",
    "B[:,:,0] = u0 @ sigma0 @ vt0\n",
    "B[:,:,1] = u1 @ sigma1 @ vt1\n",
    "B[:,:,2] = u2 @ sigma2 @ vt2\n",
    "\n",
    "plt.subplot(1,2,1)\n",
    "plt.title('Imagem original')\n",
    "plt.imshow(A, cmap='gray')\n",
    "plt.subplot(1,2,2)\n",
    "plt.title('Imagem comprimida')\n",
    "plt.imshow(B, cmap='gray')\n",
    "plt.show()"
   ]
  },
  {
   "attachments": {},
   "cell_type": "markdown",
   "metadata": {},
   "source": [
    "# Projeto: O Desafio NetFlix\n",
    "Outros datasets: https://github.com/caserec/Datasets-for-Recommender-Systems\n",
    "\n",
    "Um problema que existe hoje em dia com as grandes empresas de streaming (Netflix, Spotify, etc.) é que elas têm um acervo de conteúdo muito grande, e os usuários tendem a gostar, cada um, de uma pequena parte desse acervo. Então, como poderíamos escolher quais filmes vão aparecer tela inicial do seu streaming?\n",
    "\n",
    "O objetivo deste projeto é fazer um sistema que toma essa decisão.\n",
    "\n",
    "## Quais dados temos à disposição?\n",
    "\n",
    "Neste projeto, trabalharemos com o [The Movies Dataset](https://www.kaggle.com/datasets/rounakbanik/the-movies-dataset), que tem, entre outras coisas, a avaliação de usuários em relação a filmes. Essa avaliação está na tabela `ratings.csv` - mas, opcionalmente, pode ser usada a `ratings_small.csv`, que tem somente um subconjunto desses dados."
   ]
  },
  {
   "cell_type": "code",
   "execution_count": null,
   "metadata": {},
   "outputs": [],
   "source": [
    "import pandas as pd\n",
    "df = pd.read_csv('ratings_small.csv')\n",
    "df.head(2)"
   ]
  },
  {
   "attachments": {},
   "cell_type": "markdown",
   "metadata": {},
   "source": [
    "Veja que esse dataframe pode facilmente ser transformado numa matriz $A$ que tem uma linha para cada usuário (identificado por `userId`) e uma coluna para cada filme (identificado por `movieId`). O conteúdo da matriz é o *rating* que o usuário atribuiu ao filme. Podemos ignorar a coluna `timestamp`.\n",
    "\n",
    "## Desafio: eu vou gostar deste filme?\n",
    "\n",
    "O que gostaríamos de saber é qual nota um usuário deveria atribuir a um filme que ele ainda não assistiu. Para isso, o procedimento será o seguinte.\n",
    "\n",
    "1. Vamos escolher aleatoriamente um dos elementos da matriz $A$ e atribuir a ele um valor aleatório, gerando a matriz $B$, isto é, a matriz $B$ é igual à matriz $A$ com um dos elementos \"estragado\".\n",
    "1. O sistema receberá como entrada a matriz $B$ e a posição $i,j$ do valor aleatório. Neste momento, ele não teve acesso à matriz $A$, e, portanto, não tem como saber qual é o valor \"real\".\n",
    "1. O sistema deverá retornar o valor real que estava na matriz $A$.\n",
    "1. Esse procedimento deverá ser repetido várias vezes, de forma a gerar um histograma dos erros cometidos.\n",
    "\n",
    "## Como o sistema funciona?\n",
    "\n",
    "A ideia do sistema de recomendação é que existem \"perfis\" típicos de usuários. Os perfis, para este problema, são vetores que mostram que notas são tipicamente atribuídas para cada filme por usuários daquele perfil. Por exemplo, talvez tenhamos dois perfis e três filmes, e nesse caso poderíamos ter os perfis:\n",
    "\n",
    "* $p_0 = [2, 5, 2]$, isto é, o perfil $0$ é de uma pessoa que gosta muito do filme $f_1$, e\n",
    "* $p_1 = [5, 0, 4]$, isto é, o perfil $1$ é de uma pessoa que gosta dos filmes $f_0$ e $f_2$. \n",
    "\n",
    "Porém, sabemos que usuários reais raramente se comportam estritamente como um perfil. As notas realmente atribuídas por um usuário aos filmes, então, são modeladas como combinações lineares dos perfis. Por exemplo, podemos ter usuários:\n",
    "\n",
    "* $u_0 = 0.1 p_0 + 0.9 p_1$, para um usuário muito próximo de $p_1$ mas distante de $p_0$,\n",
    "* $u_1 = 0.1 p_0 + 0.1 p_1$, para um usuário distante tanto de $p_0$ quanto de $p_1$,\n",
    "\n",
    "e assim por diante.\n",
    "\n",
    "Então, o que precisamos é de uma maneira de mapear usuários para perfis, e então perfis para filmes. Precisamos então *decompor* nossa matriz $A$ de usuários $\\times$ filmes em componentes:\n",
    "\n",
    "$\n",
    "A = X Y Z,\n",
    "$\n",
    "\n",
    "onde:\n",
    "* $A$ tem uma linha por usuário e uma coluna por filme,\n",
    "* $X$ tem uma linha por usuário e uma coluna por perfil,\n",
    "* $Y$ é quadrada e mapeia perfis para perfis,\n",
    "* $Z$ tem uma linha por perfil e uma coluna por filme.\n",
    "\n",
    "Isso se parece bastante com algo que já fizemos nesta aula!\n",
    "\n",
    "Em nosso teste, ao aleatorizarmos um elemento da matriz $A$, estamos inserindo ruído. Como poderíamos remover esse ruído?\n",
    "\n",
    "## Descrição do projeto\n",
    "\n",
    "Neste projeto, o grupo deverá fazer um sistema preditor de nota de filmes por usuário, que funciona nas condições que foram citadas no enunciado (temos conhecimento de todo o dataset, exceto do par filme-usuário específico). O sistema projetado deve ser avaliado usando um histograma dos erros ao longo de várias estimativas. O número de estimações deve ser, no mínimo, mil. O projeto deve ser colocado em um repositório GitHub específico.\n",
    "\n",
    "Anotações importantes:\n",
    "\n",
    "1. O grupo deve enviar um link para o repositório GitHub onde está localizada a biblioteca.\n",
    "2. No diretório principal do repositório, deve haver um programa `demo.py`, que, quando executado, executa todos os testes que geram o histograma de resultados.\n",
    "3. Como o objetivo do projeto é exatamente implementar o sistema de recomendação, não é permitido usar bibliotecas que fazem recomendações. Toda a parte de algoritmos e álgebra linear deve ser feita pelo próprio grupo usando Numpy ou Scipy.\n",
    "\n",
    "**ENTREGAS**\n",
    "* Link para o repositório onde está a biblioteca.\n",
    "* No `README.md` do repositório, deve haver uma discussão sobre como o sistema funciona. Essa discussão deve corresponder ao que foi feito no código.\n",
    "* Inclua também, no próprio `README.md`, instruções sobre como rodar o `demo.py` e como usar suas funcionalidades.\n",
    "* O `README.md` também deve ter uma discussão dos resultados encontrados, incluindo o histograma dos erros e uma conclusão, baseada em dados, sobre se o grupo acredita que o sistema proposto poderia ser usado em produção.\n",
    "\n"
   ]
  },
  {
   "attachments": {},
   "cell_type": "markdown",
   "metadata": {},
   "source": [
    "\n",
    "**RUBRICA**\n",
    "\n",
    "O projeto será avaliado usando três rubricas. Duas delas dizem respeito à redação e ao código apresentado, e são compartilhadas por todos os projetos. Este projeto tem ainda requisitos específicos que estão na rubrica abaixo. Os níveis são cumulativos, isto é, para passar de um nível, *todos* os requisitos dele devem ser cumpridos. A nota final é baseada na rubrica em que o trabalho obtiver o *menor* desempenho. As rubricas foram inspiradas nos níveis da [Taxonomia de Bloom](https://cft.vanderbilt.edu/guides-sub-pages/blooms-taxonomy/).\n",
    "\n",
    "\n",
    "## Específica\n",
    "\n",
    "| Nível | Descrição | [Tax. de Bloom](https://cft.vanderbilt.edu/guides-sub-pages/blooms-taxonomy/) |\n",
    "| --- | --- | --- |\n",
    "| F | Não entregue, entregue sem completar o `README.md`, entregue sem o `demo.py`, entregue sem resolver o problema que foi proposto, ou usando bibliotecas que resolvem o problema central do enunciado.  | Não fez |\n",
    "| D | Entregue, mas o `README.md` não indica como instalar ou rodar o programa, ou o programa usa a matriz $A$ (sem ruído) como entrada ao invés da matriz $B$. | Entender |\n",
    "| C | Devido a um erro de implementação ou de teoria, o sistema não retorna um valor coerente para o elemento faltante, isto é, simplesmente retorna um valor qualquer, aleatório, ou calculado sem base teórica adequada. | Compreender |\n",
    "| B | O método foi aplicado corretamente. | Aplicar |\n",
    "| A | Além da aplicação correta do método, o grupo realizou um teste de stress (devidamente documentado no README.md), verificando como o histograma de erro se comporta se mais dados da matriz de entrada forem \"estragados\" ao mesmo tempo. | Analisar |\n",
    "\n",
    "## Argumentação\n",
    "\n",
    "| Nível | Descrição |\n",
    "| --- | --- |\n",
    "| F | A argumentação apresentada não é clara o suficiente para permitir a reprodução do código computacional a partir dela por não existir ou por não citar ou descrever corretamente os elementos corretos que aparecem no código, ou é uma argumentação que se baseia unicamente na reprodução do código computacional, ou é uma argumentação factualmente incorreta ou que justifica um código factualmente incorreto. |\n",
    "| E | A argumentação apresentada não é clara o suficiente para permitir a reprodução do código computacional a partir dela por não existir ou por não explicitar a relevância dos elementos que aparecem no código, ou é uma argumentação que se baseia unicamente em comentar o código computacional. |\n",
    "| D | A argumentação apresentada não é clara o suficiente para permitir a reprodução do código computacional a partir dela por não apresentar uma articulação entre os elementos matemáticos semelhante à que aparece no código ou omitir passagens que não são triviais mas são necessárias para a compreensão da solução. |\n",
    "| C | A argumentação apresentada permite a reprodução do código computacional, embora haja pequenos erros pontuais em aspectos que não são relevantes para a solução (exemplo: dizer que o algoritmo aplicado foi inventado em 1963 quando essa data não é correta). |\n",
    "| B | A argumentação apresentada permite a reprodução do código computacional mas cita fatos que, embora corretos, são irrelevantes para o funcionamento (exemplo: dizer que o algoritmo aplicado foi inventado em 1963 quando, de fato, foi, embora essa data seja irrelevante para o código computacional).\n",
    "| A | A argumentação está correta, completa e objetiva. As justificativas matemáticas são apresentadas de forma clara e organizada, sem erros ou equívocos, e correspondem imediatamente ao código apresentado. A solução apresentada é bem justificada e explica de forma completa o raciocínio por trás da resposta.\n",
    "\n",
    "\n",
    "## Código computacional\n",
    "\n",
    "| Rubrica | Descrição |\n",
    "| --- | --- |\n",
    "| F | O programa não funciona, não roda, ou resolve um problema diferente do proposto. |\n",
    "| E | O programa apresenta problemas de implementação, como erros de lógica, que levam a resultados incorretos ou incompletos. |\n",
    "| D | O programa apresenta uma solução algoritmica que não usa sua correspondência matemática ou não usa pacotes adequados em situações que esse uso seria muito simples (por exemplo: implementando uma multiplicação matricial com laços *for* aninhados, ao invés de usar a multiplicação matricial do Numpy). |\n",
    "| C | O programa implementa corretamente uma solução matemáticamente correta e usa pacotes nas situações comuns, mas tem problemas de clareza como variáveis e funções com nomes que não correspondem ao seu conteudo/funcionalidade (ex: `var_1` ou `a1, a2, a3, a4`), ou deixar de usar ou comentar de forma lacônica o uso de construções da linguagem muito diferentes das que vimos em aula (ex: ao usar funções que nunca foram usadas em aula, ou pacotes que nunca foram usados, precisamos de um comentário como \"a função X recebe A e retorna B, e por isso ela faz o papel da transformação T que foi discutida na argumentação\"). |\n",
    "| B | O programa implementa corretamente uma solução matemáticamente correta, com nomes de funções e variáveis auto-explicativos, está corretamente comentada, mas deixou de apagar instruções \"print\" que foram usadas para debug ou deixou de comentar corretamente o código ou deixou elementos que não deveriam estar em produção como nome da equipe, frases de efeito, ou outras questões de organização. |\n",
    "| A | O programa implementa uma solução matemática correta e completa, com nomes de funções e variáveis que são auto-explicativos, e, sempre que possível, coincidem com os nomes usados na argumentação, e comentários detalhados que ligam o algoritmo mostrado a sua argumentação. |"
   ]
  },
  {
   "attachments": {},
   "cell_type": "markdown",
   "metadata": {},
   "source": [
    "# "
   ]
  }
 ],
 "metadata": {
  "kernelspec": {
   "display_name": "base",
   "language": "python",
   "name": "python3"
  },
  "language_info": {
   "codemirror_mode": {
    "name": "ipython",
    "version": 3
   },
   "file_extension": ".py",
   "mimetype": "text/x-python",
   "name": "python",
   "nbconvert_exporter": "python",
   "pygments_lexer": "ipython3",
   "version": "3.11.6"
  },
  "orig_nbformat": 4,
  "vscode": {
   "interpreter": {
    "hash": "42e34ec1a81382d7a35a13fd98192c35dabe0890684b7b0a474deec672e3df02"
   }
  }
 },
 "nbformat": 4,
 "nbformat_minor": 2
}
